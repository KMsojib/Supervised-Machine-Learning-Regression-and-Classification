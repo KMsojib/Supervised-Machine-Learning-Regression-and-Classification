{
 "cells": [
  {
   "cell_type": "code",
   "execution_count": 1,
   "metadata": {},
   "outputs": [
    {
     "name": "stdout",
     "output_type": "stream",
     "text": [
      "Gradient Descent and Cost Function Implementation\n"
     ]
    }
   ],
   "source": [
    "print(\"Gradient Descent and Cost Function Implementation\")"
   ]
  },
  {
   "cell_type": "code",
   "execution_count": 9,
   "metadata": {},
   "outputs": [],
   "source": [
    "import numpy as np\n",
    "import matplotlib.pyplot as plt\n",
    "from mpl_toolkits.mplot3d import Axes3D"
   ]
  },
  {
   "cell_type": "code",
   "execution_count": 10,
   "metadata": {},
   "outputs": [],
   "source": [
    "def computeCost(x, y, theta):\n",
    "    m = len(y)\n",
    "    h = x.dot(theta)\n",
    "    J = (1/(2*m)) * np.sum(np.square(h - y))\n",
    "    return J"
   ]
  },
  {
   "cell_type": "code",
   "execution_count": 15,
   "metadata": {},
   "outputs": [
    {
     "name": "stdout",
     "output_type": "stream",
     "text": [
      "m 4, b 1, cost 44.5, iteration 0\n",
      "m 1, b 0, cost 12.0, iteration 1\n",
      "m 4, b 0, cost 19.0, iteration 2\n",
      "m 1, b 0, cost 8.5, iteration 3\n",
      "m 4, b 0, cost 19.0, iteration 4\n",
      "m 1, b 0, cost 8.5, iteration 5\n",
      "m 4, b 0, cost 19.0, iteration 6\n",
      "m 1, b 0, cost 8.5, iteration 7\n",
      "m 4, b 0, cost 19.0, iteration 8\n",
      "m 1, b 0, cost 8.5, iteration 9\n"
     ]
    }
   ],
   "source": [
    "\n",
    "def Gradient_descent(x, y):\n",
    "    m_curr = b_curr = 0\n",
    "    iter = 10\n",
    "    n = len(x)\n",
    "    learning_rate = 0.08\n",
    "    \n",
    "    x = x.reshape((n, 1))  # Reshape x to be a 2D array\n",
    "    x = np.concatenate((np.ones((n, 1)), x), axis=1)  # Add a column of ones for the intercept term\n",
    "\n",
    "    theta = np.array([m_curr, b_curr])\n",
    "    \n",
    "    for i in range(iter):\n",
    "        y_pred = x.dot(theta)\n",
    "        cost = computeCost(x, y, theta)\n",
    "        md = -(2/n) * x[:, 1].dot(y - y_pred)\n",
    "        bd = -(2/n) * np.sum(y - y_pred)\n",
    "        theta[0] = theta[0] - learning_rate * bd\n",
    "        theta[1] = theta[1] - learning_rate * md\n",
    "        \n",
    "        print(\"m {}, b {}, cost {}, iteration {}\".format(theta[1], theta[0], cost, i))\n",
    "\n",
    "x = np.array([1,2,3,4,5])\n",
    "y = np.array([5,7,9,11,13])\n",
    "\n",
    "Gradient_descent(x,y)"
   ]
  },
  {
   "cell_type": "code",
   "execution_count": null,
   "metadata": {},
   "outputs": [],
   "source": []
  }
 ],
 "metadata": {
  "kernelspec": {
   "display_name": "Python 3",
   "language": "python",
   "name": "python3"
  },
  "language_info": {
   "codemirror_mode": {
    "name": "ipython",
    "version": 3
   },
   "file_extension": ".py",
   "mimetype": "text/x-python",
   "name": "python",
   "nbconvert_exporter": "python",
   "pygments_lexer": "ipython3",
   "version": "3.12.4"
  }
 },
 "nbformat": 4,
 "nbformat_minor": 2
}
